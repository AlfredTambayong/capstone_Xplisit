{
 "cells": [
  {
   "cell_type": "code",
   "execution_count": 5,
   "metadata": {},
   "outputs": [
    {
     "name": "stdout",
     "output_type": "stream",
     "text": [
      "total training aloperia areatas: 40\n",
      "['1.PNG', '10.PNG', '11.PNG']\n"
     ]
    }
   ],
   "source": [
    "#menampilkan dataset\n",
    "import os\n",
    "\n",
    "aloperia_dir = os.path.join('D:\\capstone_Xplisit/ML/nail diseases/train/aloperia areata')\n",
    "beaus_dir = os.path.join('D:\\capstone_Xplisit/nail diseases/train/beaus lines')\n",
    "bluish_dir = os.path.join('D:\\capstone_Xplisit/nail diseases/train/bluish nail')\n",
    "\n",
    "print('total training aloperia areatas:', len(os.listdir(aloperia_dir)))\n",
    "aloperia_files = os.listdir(aloperia_dir)\n",
    "print(aloperia_files[:3])"
   ]
  },
  {
   "cell_type": "code",
   "execution_count": null,
   "metadata": {},
   "outputs": [],
   "source": []
  }
 ],
 "metadata": {
  "kernelspec": {
   "display_name": "Python 3",
   "language": "python",
   "name": "python3"
  },
  "language_info": {
   "codemirror_mode": {
    "name": "ipython",
    "version": 3
   },
   "file_extension": ".py",
   "mimetype": "text/x-python",
   "name": "python",
   "nbconvert_exporter": "python",
   "pygments_lexer": "ipython3",
   "version": "3.8.5"
  }
 },
 "nbformat": 4,
 "nbformat_minor": 4
}
