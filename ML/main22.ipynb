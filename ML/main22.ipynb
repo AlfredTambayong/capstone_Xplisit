{
  "nbformat": 4,
  "nbformat_minor": 0,
  "metadata": {
    "colab": {
      "name": "main22",
      "provenance": [],
      "authorship_tag": "ABX9TyPobjr+fQm/lk2BsH3n+cIj",
      "include_colab_link": true
    },
    "kernelspec": {
      "name": "python3",
      "display_name": "Python 3"
    },
    "language_info": {
      "name": "python"
    }
  },
  "cells": [
    {
      "cell_type": "markdown",
      "metadata": {
        "id": "view-in-github",
        "colab_type": "text"
      },
      "source": [
        "<a href=\"https://colab.research.google.com/github/zahriha/capstone_Xplisit/blob/main/ML/main22.ipynb\" target=\"_parent\"><img src=\"https://colab.research.google.com/assets/colab-badge.svg\" alt=\"Open In Colab\"/></a>"
      ]
    },
    {
      "cell_type": "code",
      "metadata": {
        "colab": {
          "base_uri": "https://localhost:8080/"
        },
        "id": "-tE649_CgBoO",
        "outputId": "09d5943b-33d5-4a1e-aa42-7d40e21b8e6f"
      },
      "source": [
        "from google.colab import drive\n",
        "drive.mount('/content/gdrive')\n",
        "!ls"
      ],
      "execution_count": null,
      "outputs": [
        {
          "output_type": "stream",
          "text": [
            "Mounted at /content/gdrive\n",
            "gdrive\tsample_data\n"
          ],
          "name": "stdout"
        }
      ]
    },
    {
      "cell_type": "markdown",
      "metadata": {
        "id": "Ru3j8XPTtlaF"
      },
      "source": [
        ""
      ]
    },
    {
      "cell_type": "code",
      "metadata": {
        "colab": {
          "base_uri": "https://localhost:8080/"
        },
        "id": "AD_YJZWstmvN",
        "outputId": "be62684d-fa14-49ee-c745-d678b62587c5"
      },
      "source": [
        "%cd gdrive/My\\ Drive/\n",
        "!ls"
      ],
      "execution_count": null,
      "outputs": [
        {
          "output_type": "stream",
          "text": [
            "[Errno 2] No such file or directory: 'gdrive/My Drive/'\n",
            "/content/gdrive/MyDrive\n",
            "'[2021] Bangk!t Academy Soft Skills Module 1 - Digital Branding and Interview Communication.pdf'\n",
            " archive.zip\n",
            " Classroom\n",
            "'Colab Notebooks'\n",
            "'Copy of Bangkit 2021 Capstone Project Plan Template (1).gdoc'\n",
            "'Copy of Bangkit 2021 Capstone Project Plan Template (2).gdoc'\n",
            "'Copy of Bangkit 2021 Capstone Project Plan Template (3).gdoc'\n",
            "'Copy of Bangkit 2021 Capstone Project Plan Template.gdoc'\n",
            " dataset\n",
            "'[ILT-SS-02-D] Bangkit Career Development Class #2 - Digital Branding (2021-02-19 at 00:52 GMT-8)'\n",
            "'Screenshot from 2021-02-14 22-33-29.png'\n",
            "'Screenshot from 2021-02-15 01-08-10.png'\n",
            " Untitled0.ipynb\n",
            " Untitled1.ipynb\n"
          ],
          "name": "stdout"
        }
      ]
    },
    {
      "cell_type": "code",
      "metadata": {
        "id": "AIBTDJtmw7Ih"
      },
      "source": [
        "import os\n",
        "import zipfile\n",
        "\n",
        "aloperia_dir = os.path.join('train/aloperia areata')\n",
        "beau_dir = os.path.join('train/beaus lines')\n",
        "bluish_dir = os.path.join('train/bluish nail')\n",
        "clubbing_dir = os.path.join('train/clubbing')\n",
        "darier_dir = os.path.join('train/Dariers disease')\n",
        "eczema_dir = os.path.join('train/eczema')\n",
        "half_dir = os.path.join('train/half and half nailes (Lindsays nails)')\n",
        "koilonychia_dir = os.path.join('train/koilonychia')\n",
        "leukonychia_dir = os.path.join('train/leukonychia')\n",
        "muehrck_dir = os.path.join('train/Muehrck-es lines')\n",
        "onycholysis_dir = os.path.join('train/onycholycis')\n",
        "pale_dir = os.path.join('train/pale nail')\n",
        "red_dir = os.path.join('train/red lunula')\n",
        "splinter_dir = os.path.join('train/splinter hemmorrage')\n",
        "terry_dir = os.path.join('train/terrys nail')\n",
        "white_dir = os.path.join('train/white nail')\n",
        "yellow_dir = os.path.join('train/yellow nails')\n",
        "\n",
        "print('total training aloperia areata images:', len(os.listdir(aloperia_dir)))\n",
        "print('total training beaus lines images:', len(os.listdir(beau_dir)))\n",
        "print('total training bluish nail images:', len(os.listdir(bluish_dir)))\n",
        "print('total training clubbing images:', len(os.listdir(clubbing_dir)))\n",
        "print('total training Dariers disease images:', len(os.listdir(darier_dir)))\n",
        "print('total training eczema images:', len(os.listdir(eczema_dir)))\n",
        "print('total training half and half nailes (Lindsays nails) images:', len(os.listdir(half_dir)))\n",
        "print('total training koilonychia images:', len(os.listdir(koilonychia_dir)))\n",
        "print('total training leukonychia images:', len(os.listdir(leukonychia_dir)))\n",
        "print('total training Muehrck-es lines images:', len(os.listdir(muehrck_dir)))\n",
        "print('total training onycholycis images:', len(os.listdir(onycholysis_dir)))\n",
        "print('total training pale nail images:', len(os.listdir(pale_dir)))\n",
        "print('total training red lunula images:', len(os.listdir(red_dir)))\n",
        "print('total training splinter hemmorrage images:', len(os.listdir(splinter_dir)))\n",
        "print('total training terrys nail images:', len(os.listdir(terry_dir)))\n",
        "print('total training white nail images:', len(os.listdir(white_dir)))\n",
        "print('total training yellow nails images:', len(os.listdir(yellow_dir)))\n",
        "\n",
        "\n",
        "broccoli_files = os.listdir(broccoli_dir)\n",
        "print(broccoli_files[:10])\n",
        "carrot_files = os.listdir(carrot_dir)\n",
        "print(carrot_files[:10])\n",
        "cheese_files = os.listdir(cheese_dir)\n",
        "print(cheese_files[:10])\n",
        "potato_files = os.listdir(potato_dir)\n",
        "print(potato_files[:10])\n",
        "tomato_files = os.listdir(tomato_dir)\n",
        "print(tomato_files[:10])\n"
      ],
      "execution_count": null,
      "outputs": []
    },
    {
      "cell_type": "code",
      "metadata": {
        "id": "SuoC39xBtoKR"
      },
      "source": [
        ""
      ],
      "execution_count": null,
      "outputs": []
    }
  ]
}